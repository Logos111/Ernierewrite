{
 "cells": [
  {
   "cell_type": "code",
   "execution_count": 2,
   "id": "e5ebd843-c9ea-4cbf-b678-a86074e05242",
   "metadata": {},
   "outputs": [],
   "source": [
    "import json\n",
    "import os"
   ]
  },
  {
   "cell_type": "code",
   "execution_count": 3,
   "id": "2db6be4e-69a6-4c00-abc8-db29ec6707e7",
   "metadata": {},
   "outputs": [
    {
     "data": {
      "text/plain": [
       "31526"
      ]
     },
     "execution_count": 3,
     "metadata": {},
     "output_type": "execute_result"
    }
   ],
   "source": [
    "file=\"./canard/data/release/\"\n",
    "train=\"train.json\"\n",
    "dev=\"dev.json\"\n",
    "test=\"test.json\"\n",
    "\n",
    "with open (file+train , \"r\" ) as f:\n",
    "    traindata=json.load(f)\n",
    "len(traindata)"
   ]
  },
  {
   "cell_type": "code",
   "execution_count": 7,
   "id": "08fa349f-f1fe-48de-b856-3e889bf5aaac",
   "metadata": {},
   "outputs": [
    {
     "name": "stdout",
     "output_type": "stream",
     "text": [
      "['Johnny Unitas', '1964 MVP season']\n",
      "what team did unitas play for\n",
      "what team did Johnny Unitas play for?\n"
     ]
    }
   ],
   "source": [
    "print(traindata[0][\"History\"])\n",
    "print(traindata[0][\"Question\"])\n",
    "print(traindata[0][\"Rewrite\"])"
   ]
  },
  {
   "cell_type": "code",
   "execution_count": 8,
   "id": "8b6eb00a-63cf-4462-845d-e450f17fd242",
   "metadata": {},
   "outputs": [],
   "source": [
    "traindata[0]\n",
    "history=traindata[0][\"History\"]\n",
    "question=traindata[0][\"Question\"]\n",
    "rewrite=traindata[0][\"Rewrite\"]"
   ]
  },
  {
   "cell_type": "code",
   "execution_count": 11,
   "id": "c8b8de66-b8b4-409d-afaa-85b96007e8ca",
   "metadata": {},
   "outputs": [],
   "source": [
    "import requests\n",
    "import random\n",
    "import hmac\n",
    "import hashlib "
   ]
  },
  {
   "cell_type": "code",
   "execution_count": 26,
   "id": "af8655ce-795a-4814-a8ce-fb46475b130d",
   "metadata": {},
   "outputs": [
    {
     "data": {
      "text/plain": [
       "{'error_code': '52003', 'error_msg': 'UNAUTHORIZED USER'}"
      ]
     },
     "execution_count": 26,
     "metadata": {},
     "output_type": "execute_result"
    }
   ],
   "source": [
    "res=requests.post(\"https://fanyi-api.baidu.com/api/trans/vip/translate\")\n",
    "res.json()"
   ]
  },
  {
   "cell_type": "code",
   "execution_count": 38,
   "id": "f6127b1d-5b6c-468f-bcb7-fe9fd7f3f6bd",
   "metadata": {},
   "outputs": [],
   "source": [
    "def mdsign(data):\n",
    "    md = hashlib.md5()\n",
    "    md.update(data.encode('utf-8')) \n",
    "    return md.hexdigest()\n",
    "    \n",
    "def get_translate(query):\n",
    "    APPID=\"20210926000956961\"\n",
    "    key=\"usw3vYr5INJhlUjpO4jn\"\n",
    "    salt=str(random.randint(10000,99999))\n",
    "    sign=mdsign(APPID+query+salt+key)\n",
    "    payload = {'appid': APPID, 'q': query, 'from': \"en\", 'to': \"zh\", 'salt': salt, 'sign': sign}\n",
    "    headers = {'Content-Type': 'application/x-www-form-urlencoded'}\n",
    "    r = requests.post(\"https://fanyi-api.baidu.com/api/trans/vip/translate\", params=payload, headers=headers)\n",
    "    result = r.json()\n",
    "    return result"
   ]
  },
  {
   "cell_type": "code",
   "execution_count": 42,
   "id": "a6a272b6-811f-4099-baf5-c63df45951e5",
   "metadata": {},
   "outputs": [
    {
     "name": "stdout",
     "output_type": "stream",
     "text": [
      "尤塔斯效力于哪支球队\n"
     ]
    }
   ],
   "source": [
    "res=get_translate(question)\n",
    "a=json.dumps(res, indent=4, ensure_ascii=False)\n",
    "\n",
    "print(res[\"trans_result\"][0]['dst'])"
   ]
  },
  {
   "cell_type": "code",
   "execution_count": null,
   "id": "180dc9fc-f107-4dc0-9388-5d08cad7d4b2",
   "metadata": {},
   "outputs": [],
   "source": []
  }
 ],
 "metadata": {
  "kernelspec": {
   "display_name": "llm",
   "language": "python",
   "name": "llm"
  },
  "language_info": {
   "codemirror_mode": {
    "name": "ipython",
    "version": 3
   },
   "file_extension": ".py",
   "mimetype": "text/x-python",
   "name": "python",
   "nbconvert_exporter": "python",
   "pygments_lexer": "ipython3",
   "version": "3.10.9"
  }
 },
 "nbformat": 4,
 "nbformat_minor": 5
}
